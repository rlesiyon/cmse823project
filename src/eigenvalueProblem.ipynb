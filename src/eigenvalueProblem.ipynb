{
 "cells": [
  {
   "cell_type": "code",
   "execution_count": 179,
   "id": "22e09c2f",
   "metadata": {},
   "outputs": [],
   "source": [
    "## Import methods from\n",
    "from hessenberg import *\n",
    "from scipy.linalg import hessenberg as hessen"
   ]
  },
  {
   "cell_type": "markdown",
   "id": "77137783",
   "metadata": {},
   "source": [
    "## Hessenberg Form Matrix"
   ]
  },
  {
   "cell_type": "code",
   "execution_count": 180,
   "id": "e59ffa01",
   "metadata": {},
   "outputs": [],
   "source": [
    "## Calculating different matrix for computing hessenberg form\n",
    "A = np.array([[1,2,3,4], [5,6,7,8], [9, 8, 7, 6], [5,4, 3, 2]], dtype = float)\n",
    "H = hessenberg_form(A)"
   ]
  },
  {
   "cell_type": "code",
   "execution_count": 183,
   "id": "181c6f9b",
   "metadata": {},
   "outputs": [
    {
     "name": "stdout",
     "output_type": "stream",
     "text": [
      "2.1532218528415368e-14\n",
      "2.0512945252629596e-14\n"
     ]
    }
   ],
   "source": [
    "## comparing the hessen output with implemented algorithm\n",
    "inbuiltH = hessen(A)\n",
    "print(np.linalg.norm(H - inbuiltH, \"fro\"))\n",
    "print(np.linalg.norm(H - inbuiltH, 2))"
   ]
  },
  {
   "cell_type": "markdown",
   "id": "3fd7ee0f",
   "metadata": {},
   "source": [
    "## Converging the hessenberg form matrix to diagonal\n",
    "\n",
    "\n",
    "* Research algorithms for phase 2"
   ]
  },
  {
   "cell_type": "code",
   "execution_count": null,
   "id": "9f6f60b6",
   "metadata": {},
   "outputs": [],
   "source": []
  },
  {
   "cell_type": "code",
   "execution_count": null,
   "id": "cc619862",
   "metadata": {},
   "outputs": [],
   "source": []
  }
 ],
 "metadata": {
  "kernelspec": {
   "display_name": "Python 3 (ipykernel)",
   "language": "python",
   "name": "python3"
  },
  "language_info": {
   "codemirror_mode": {
    "name": "ipython",
    "version": 3
   },
   "file_extension": ".py",
   "mimetype": "text/x-python",
   "name": "python",
   "nbconvert_exporter": "python",
   "pygments_lexer": "ipython3",
   "version": "3.9.10"
  }
 },
 "nbformat": 4,
 "nbformat_minor": 5
}
