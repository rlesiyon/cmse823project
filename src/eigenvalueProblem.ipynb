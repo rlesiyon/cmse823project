{
 "cells": [
  {
   "cell_type": "code",
   "execution_count": 1,
   "id": "96c36c42",
   "metadata": {},
   "outputs": [],
   "source": [
    "## Import methods from\n",
    "%load_ext autoreload"
   ]
  },
  {
   "cell_type": "code",
   "execution_count": 2,
   "id": "22e09c2f",
   "metadata": {},
   "outputs": [],
   "source": [
    "%reload_ext autoreload\n",
    "from hessenberg import *\n",
    "from scipy.linalg import hessenberg as hessen\n",
    "from hessentestcase import hessenTestCase\n",
    "from collections.abc import Iterable\n",
    "import matplotlib.pyplot as plt\n",
    "from itertools import chain"
   ]
  },
  {
   "cell_type": "markdown",
   "id": "77137783",
   "metadata": {},
   "source": [
    "## Hessenberg Form Matrix"
   ]
  },
  {
   "cell_type": "code",
   "execution_count": 3,
   "id": "e59ffa01",
   "metadata": {},
   "outputs": [],
   "source": [
    "## Calculating different matrix for computing hessenberg form\n",
    "\n",
    "## test matrix\n",
    "A = np.array([[1,2,3,4], [5,6,7,8], [9, 8, 7, 6], [5,4, 3, 2]], dtype = float)\n",
    "#print(hessen(A))\n",
    "A0=hessen(A)"
   ]
  },
  {
   "cell_type": "code",
   "execution_count": 4,
   "id": "181c6f9b",
   "metadata": {},
   "outputs": [
    {
     "name": "stdout",
     "output_type": "stream",
     "text": [
      "Calculated hessenberg form is of order 1e-10 lower\n"
     ]
    }
   ],
   "source": [
    "## comparing the hessen output with implemented algorithm\n",
    "testcase = hessenTestCase(A)\n",
    "testcase.compare_bound(1*10**-10)"
   ]
  },
  {
   "cell_type": "code",
   "execution_count": 5,
   "id": "684eb79d",
   "metadata": {},
   "outputs": [
    {
     "name": "stdout",
     "output_type": "stream",
     "text": [
      "Calculated hessenberg form is of order 1e-10 lower\n"
     ]
    }
   ],
   "source": [
    "# hilbert matrix\n",
    "\n",
    "n = 5\n",
    "A = np.zeros((n, n))\n",
    "for i in range(n):\n",
    "    for j in range(n):\n",
    "        A[i,j] = 1/(i+1 + j+1 - 1)\n",
    "        \n",
    "testcase = hessenTestCase(A)\n",
    "testcase.compare_bound(1*10**-10)"
   ]
  },
  {
   "cell_type": "markdown",
   "id": "3fd7ee0f",
   "metadata": {},
   "source": [
    "## Converging the hessenberg form matrix to diagonal\n",
    "\n",
    "\n",
    "* Research algorithms for phase 2"
   ]
  },
  {
   "cell_type": "code",
   "execution_count": 6,
   "id": "9f6f60b6",
   "metadata": {},
   "outputs": [],
   "source": [
    "import numpy as np\n",
    "from numpy.linalg import qr"
   ]
  },
  {
   "cell_type": "code",
   "execution_count": 7,
   "id": "cc619862",
   "metadata": {},
   "outputs": [
    {
     "name": "stdout",
     "output_type": "stream",
     "text": [
      "Iteration 1:\n",
      "[[3. 2.]\n",
      " [2. 0.]]\n",
      "Iteration 5:\n",
      "[[ 3.99998093  0.00976559]\n",
      " [ 0.00976559 -0.99998093]]\n",
      "Iteration 10:\n",
      "[[ 4.00000000e+00  9.53674316e-06]\n",
      " [ 9.53674316e-06 -1.00000000e+00]]\n",
      "Iteration 20:\n",
      "[[ 4.00000000e+00  9.09482285e-12]\n",
      " [ 9.09494702e-12 -1.00000000e+00]]\n"
     ]
    }
   ],
   "source": [
    "a = np.array([[0, 2], \n",
    "              [2, 3]])\n",
    "\n",
    "p = [1, 5, 10, 20]\n",
    "for i in range(20):\n",
    "    q, r = qr(a)\n",
    "    a = np.dot(r, q)\n",
    "    \n",
    "    if i+1 in p:\n",
    "        \n",
    "        print(f'Iteration {i+1}: \\n')\n",
    "        print(a)"
   ]
  },
  {
   "cell_type": "code",
   "execution_count": 8,
   "id": "e20b4719",
   "metadata": {},
   "outputs": [
    {
     "data": {
      "text/plain": [
       "array([ 4., -1.])"
      ]
     },
     "execution_count": 8,
     "metadata": {},
     "output_type": "execute_result"
    }
   ],
   "source": [
    "np.linalg.eigvals(a)"
   ]
  },
  {
   "cell_type": "code",
   "execution_count": 9,
   "id": "e79355a7",
   "metadata": {},
   "outputs": [],
   "source": [
    "def householder(A):\n",
    "    \n",
    "    '''\n",
    "    Input: \n",
    "        A: matrix to be orthogonalized\n",
    "        Modifies A internally to create a R upper triangular matrix.\n",
    "    Return: \n",
    "        Q: orthonormal matrix\n",
    "        R: Upper triangular matrix\n",
    "    '''\n",
    "    \n",
    "    r, c = A.shape\n",
    "    A = np.copy(A)\n",
    "    Q = np.zeros((r,c))\n",
    "    \n",
    "    v = []\n",
    "    \n",
    "    for k in range(c):\n",
    "        \n",
    "        x = A[k:r,k]\n",
    "        e1= np.zeros(len(x)); e1[0] = 1\n",
    "        vk = np.sign(x)*np.linalg.norm(x,2)*e1 + x\n",
    "        vk = vk/np.linalg.norm(vk,2)\n",
    "        v.append(vk)\n",
    "        A[k:r, k:c] = A[k:r, k:c] - (2*np.outer(vk, vk))@A[k:r, k:c]\n",
    "     \n",
    "    ## calculating  Q\n",
    "    for i in range(c):\n",
    "        x = np.zeros(r); x[i] = 1\n",
    "        for k in reversed(range(0, c)):\n",
    "            \n",
    "            vk_ = v[k]\n",
    "            x[k:r] = x[k:r] - 2*vk_*(vk_.T@x[k:r])\n",
    "            \n",
    "        Q[:,i] = x\n",
    "        \n",
    "    return Q,A[:c,:c]"
   ]
  },
  {
   "cell_type": "code",
<<<<<<< HEAD
   "execution_count": 175,
=======
   "execution_count": 123,
>>>>>>> fe8c0365d7640cc0d45035e019f79e71f137dd38
   "id": "9da2e7b1",
   "metadata": {},
   "outputs": [],
   "source": [
    "def QR_shift(matrix, eps, computed_eigvals, k):\n",
    "    \n",
    "    A = matrix.copy()\n",
    "    #print(A.shape)\n",
    "    if A.shape[0] == 1 :\n",
    "        #print(A.shape)\n",
    "        ##appending to eigvals list\n",
<<<<<<< HEAD
    "#         if A.shape[0] not in computed_eigvals:\n",
    "        computed_eigvals.append(A[0].item())\n",
=======
    "#         if A.shape[0] not in computed_eigvals\n",
    "        #computed_eigvals.append(A[0].item())\n",
>>>>>>> fe8c0365d7640cc0d45035e019f79e71f137dd38
    "        return A[0].item()\n",
    "    \n",
    "    while np.abs(np.sum(A[-1,0:-1])) > eps or check_deflation(A, eps)[0]:\n",
    "        \n",
    "        ## pick a miu\n",
    "        mu =  A[-1, -1] \n",
    "        \n",
    "        ## QR factorization with householder\n",
    "        Q, R = householder(A - mu*np.eye(A.shape[0]))\n",
    "        \n",
    "        ## Recalculate A; \n",
    "        A = R@Q + mu*np.eye(A.shape[0])\n",
    "        #print(A, '\\n')\n",
    "        ## check deflation and break the matrix.\n",
    "        b, idx = check_deflation(A, eps)\n",
    "        if idx != None:\n",
    "            #print(idx, A.shape)\n",
    "            ## setting (i,i+1), and (i+1, i) to zero\n",
    "            A[idx[0], idx[1]] = 0\n",
    "            A[idx[1], idx[0]] = 0\n",
    "            \n",
    "            ## splitting H to subdiagonals\n",
    "            A1 = A[0:idx[0]+1, 0:idx[0]+1]\n",
    "            A2 = A[idx[0]+1:A.shape[0], \n",
    "                    idx[0]+1:A.shape[0]]\n",
    "            \n",
    "            ## recursively performing QR-shift iteration on A1 and A2\n",
    "            #return QR_shift(A1, eps), QR_shift(A2, eps)\n",
    "            \n",
    "            return QR_shift(A1, eps, computed_eigvals, k), QR_shift(A2, eps, computed_eigvals, k)\n",
    "            \n",
    "        # return\n",
    "            \n",
    "    return\n",
    "\n",
    "def check_deflation(A, eps):\n",
    "    ##  check the sub-diagonals < eps\n",
    "    ## return sub-diagonals index\n",
    "    \n",
    "    for i in range(A.shape[0]-1):\n",
    "        if abs(A[i+1, i]) < eps: \n",
    "            return (True, (i, i+1))\n",
    "    return (False, None)\n",
    "\n",
    "\n",
    "def uniform_symetric(n):\n",
    "    U = np.random.uniform(low=0, high=1.0, size=(n, n))\n",
    "    S = np.tril(U) + np.tril(U, -1).T\n",
    "    A0 = hessen(S)\n",
    "    \n",
    "    return A0\n",
    "\n",
    "def test_matrix(p, q, n):\n",
    "    \n",
    "    h = np.pi/n\n",
    "    a = -p/(h**2)\n",
    "    b = (2*p)/h**2 + q\n",
    "    A = np.zeros((n,n))\n",
    "    \n",
    "    A[0, 0] = b\n",
    "    A[0, 1] = a\n",
    "    A[-1, -2] = 2*a\n",
    "    A[-1, -1] =b\n",
    "    \n",
    "    for i in range(1, n -1):\n",
    "        \n",
    "        A[i, i -1: i+2] = [a, b, a]\n",
    "        \n",
    "    return A"
   ]
  },
  {
   "cell_type": "code",
<<<<<<< HEAD
   "execution_count": 176,
=======
   "execution_count": 124,
>>>>>>> fe8c0365d7640cc0d45035e019f79e71f137dd38
   "id": "04b0688c",
   "metadata": {},
   "outputs": [
    {
     "name": "stdout",
     "output_type": "stream",
     "text": [
<<<<<<< HEAD
      "[15.766890392317098, -2.2698463876301216, 0.502955995313032]\n",
      "3\n"
=======
      "((15.766890392317112, -2.269846387630128), 0.5029559953130315)\n",
      "[15.76689039  0.502956   -2.26984639]\n"
>>>>>>> fe8c0365d7640cc0d45035e019f79e71f137dd38
     ]
    }
   ],
   "source": [
    "k = 0\n",
    "computed_eigvals = []\n",
    "A = np.array([[1,2,4], [2,6,8], [4, 8, 7]], dtype = float)\n",
    "A0 = hessen(A)\n",
<<<<<<< HEAD
    "QR_shift(A0, 10**-12, computed_eigvals, k)\n",
    "# computed_eigvals = np.array(sorted(np.array(computed_eigvals)))\n",
    "# inbuilt_eigvals = np.array(sorted(np.linalg.eigvals(A)))\n",
    "# np.linalg.norm(computed_eigvals - inbuilt_eigvals,2)\n",
    "print(computed_eigvals)"
=======
    "print(QR_shift(A0, 10**-12, computed_eigvals, k))\n",
    "#computed_eigvals = np.array(sorted(np.array(computed_eigvals)))\n",
    "inbuilt_eigvals = np.linalg.eigvals(A)                          \n",
    "print(inbuilt_eigvals)\n",
    "# np.linalg.norm(computed_eigvals - inbuilt_eigvals,2)"
   ]
  },
  {
   "cell_type": "code",
   "execution_count": 125,
   "id": "e44d7e1c",
   "metadata": {},
   "outputs": [
    {
     "data": {
      "text/plain": [
       "False"
      ]
     },
     "execution_count": 125,
     "metadata": {},
     "output_type": "execute_result"
    }
   ],
   "source": [
    "check_deflation(A, 10**-4)[0]"
>>>>>>> fe8c0365d7640cc0d45035e019f79e71f137dd38
   ]
  },
  {
   "cell_type": "code",
<<<<<<< HEAD
   "execution_count": 177,
=======
   "execution_count": null,
   "id": "bec85265",
   "metadata": {},
   "outputs": [],
   "source": []
  },
  {
   "cell_type": "code",
   "execution_count": 126,
>>>>>>> fe8c0365d7640cc0d45035e019f79e71f137dd38
   "id": "e9900fca",
   "metadata": {},
   "outputs": [
    {
<<<<<<< HEAD
     "data": {
      "text/plain": [
       "<matplotlib.legend.Legend at 0x124ce97f0>"
      ]
     },
     "execution_count": 177,
     "metadata": {},
     "output_type": "execute_result"
    },
    {
     "data": {
      "image/png": "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\n",
      "text/plain": [
       "<Figure size 720x576 with 1 Axes>"
      ]
     },
     "metadata": {
      "needs_background": "light"
     },
     "output_type": "display_data"
=======
     "name": "stdout",
     "output_type": "stream",
     "text": [
      "(((18.46928438164622, -3.7863364227905882), 3.7854691088446044), -0.46841706770020464)\n",
      "[18.46928438  3.78546911 -3.78633642 -0.46841707]\n"
     ]
>>>>>>> fe8c0365d7640cc0d45035e019f79e71f137dd38
    }
   ],
   "source": [
    "computed_eigvals = []\n",
    "A = np.array([[1,2,4,5], \n",
    "              [2,6,8, 4], \n",
    "              [4, 8, 7, 3], \n",
    "              [5, 4, 3, 4]\n",
    "             ], dtype = float)\n",
    "A0 = hessen(A)\n",
<<<<<<< HEAD
    "QR_shift(A0, 10**-5, computed_eigvals, k)\n",
    "computed_eigvals = np.array(sorted(np.array(computed_eigvals)))\n",
    "inbuilt_eigvals = np.array(sorted(np.linalg.eigvals(A)))\n",
    "# print(computed_eigvals)\n",
=======
    "print(QR_shift(A0, 10**-6, computed_eigvals, k))\n",
    "# computed_eigvals = np.array(sorted(np.array(computed_eigvals)))\n",
    "inbuilt_eigvals =np.linalg.eigvals(A)\n",
    "print(inbuilt_eigvals)\n",
>>>>>>> fe8c0365d7640cc0d45035e019f79e71f137dd38
    "# np.linalg.norm(computed_eigvals - inbuilt_eigvals,2)\n",
    "\n",
    "plt.plot(range(len(inbuilt_eigvals)), inbuilt_eigvals, label = \"input\")\n",
    "plt.plot(range(len(computed_eigvals)), computed_eigvals, label = \"computed\")\n",
    "plt.legend()"
   ]
  },
  {
   "cell_type": "code",
<<<<<<< HEAD
   "execution_count": 178,
=======
   "execution_count": 127,
   "id": "6061f66c",
   "metadata": {},
   "outputs": [
    {
     "data": {
      "text/plain": [
       "array([[ 1.00000000e+00, -6.70820393e+00, -4.30694199e-16,\n",
       "         4.32032588e-16],\n",
       "       [-6.70820393e+00,  1.25333333e+01, -6.84462482e+00,\n",
       "        -2.62316179e-15],\n",
       "       [ 0.00000000e+00, -6.84462482e+00,  4.24904026e+00,\n",
       "        -2.24900794e+00],\n",
       "       [ 0.00000000e+00,  0.00000000e+00, -2.24900794e+00,\n",
       "         2.17626411e-01]])"
      ]
     },
     "execution_count": 127,
     "metadata": {},
     "output_type": "execute_result"
    }
   ],
   "source": [
    "A0"
   ]
  },
  {
   "cell_type": "code",
   "execution_count": 133,
>>>>>>> fe8c0365d7640cc0d45035e019f79e71f137dd38
   "id": "94bbdec2",
   "metadata": {},
   "outputs": [
    {
     "name": "stdout",
     "output_type": "stream",
     "text": [
      "(((5.399688174489964, (-1.2555405746965151, ((-1.3119566014825343, -0.8986332347331044), (((1.3766966027562169, -0.2863843210291061), 1.0938580396976723), 0.1844465188162429)))), 1.0408499901978234), 0.4373354549495623)\n",
      "[ 5.40027687 -1.36888303 -1.21617525 -0.88270025  1.37791272  1.11202091\n",
      "  1.02457043 -0.28625596  0.43748291  0.18211071]\n"
     ]
    }
   ],
   "source": [
<<<<<<< HEAD
    "error = []\n",
    "n_size = [8, 16, 32, 64, 128]\n",
    "for n in n_size:\n",
    "    \n",
    "    computed_eigvals = []\n",
    "    A = uniform_symetric(n)\n",
    "    QR_shift(hessen(A), 10**-5, computed_eigvals, k)\n",
    "    computed_eigvals = np.array(sorted(np.array(computed_eigvals)))\n",
    "    inbuilt_eigvals = np.array(sorted(np.linalg.eigvals(A)))\n",
    "    error.append(np.linalg.norm(computed_eigvals - inbuilt_eigvals,2))"
=======
    "H1 = np.array([[8, 11, 4, 3], \n",
    "              [11, 12, 4, 7], \n",
    "              [4, 4, 7, 12], \n",
    "              [3, 7, 12, 17]])\n",
    "\n",
    "U = np.random.uniform(low=0, high=1.0, size=(10, 10))\n",
    "S = np.tril(U) + np.tril(U, -1).T\n",
    "A0 = hessen(S)\n",
    "computed_eigvals = []\n",
    "print(QR_shift(A0, 10**-1, computed_eigvals, k))\n",
    "# computed_eigvals = np.array(sorted(np.array(computed_eigvals)))\n",
    "print(np.linalg.eigvals(S))\n",
    "# print(len(computed_eigvals))\n",
    "# inbuilt_eigvals = np.array(sorted(np.linalg.eigvals(S)))\n",
    "# print(computed_eigvals)\n",
    "# np.linalg.norm(computed_eigvals - inbuilt_eigvals,2)"
>>>>>>> fe8c0365d7640cc0d45035e019f79e71f137dd38
   ]
  },
  {
   "cell_type": "code",
<<<<<<< HEAD
   "execution_count": 179,
=======
   "execution_count": 134,
>>>>>>> fe8c0365d7640cc0d45035e019f79e71f137dd38
   "id": "41a560c9",
   "metadata": {},
   "outputs": [
    {
     "data": {
      "text/plain": [
<<<<<<< HEAD
       "[<matplotlib.lines.Line2D at 0x124ca5c10>]"
      ]
     },
     "execution_count": 179,
     "metadata": {},
     "output_type": "execute_result"
    },
    {
     "data": {
      "image/png": "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\n",
      "text/plain": [
       "<Figure size 720x576 with 1 Axes>"
      ]
     },
     "metadata": {
      "needs_background": "light"
     },
     "output_type": "display_data"
    }
   ],
   "source": [
    "plt.loglog(n_size, error)"
=======
       "array([[1., 2., 4., 5.],\n",
       "       [2., 6., 8., 4.],\n",
       "       [4., 8., 7., 3.],\n",
       "       [5., 4., 3., 4.]])"
      ]
     },
     "execution_count": 134,
     "metadata": {},
     "output_type": "execute_result"
    }
   ],
   "source": [
    "A"
>>>>>>> fe8c0365d7640cc0d45035e019f79e71f137dd38
   ]
  },
  {
   "cell_type": "code",
<<<<<<< HEAD
   "execution_count": 183,
   "id": "b64e7002",
   "metadata": {},
   "outputs": [
    {
     "name": "stderr",
     "output_type": "stream",
     "text": [
      "/var/folders/nh/ckrbmdkd1k3cyz7qjmn3nfdw0000gp/T/ipykernel_33741/2076976742.py:23: RuntimeWarning: invalid value encountered in true_divide\n",
      "  vk = vk/np.linalg.norm(vk,2)\n"
     ]
    }
   ],
   "source": [
    "A = test_matrix(2, 2, 10)\n",
    "QR_shift(A, 10**-1, computed_eigvals, k)"
=======
   "execution_count": 109,
   "id": "44384364",
   "metadata": {},
   "outputs": [
    {
     "data": {
      "text/plain": [
       "3.0"
      ]
     },
     "execution_count": 109,
     "metadata": {},
     "output_type": "execute_result"
    }
   ],
   "source": [
    "A[-1, -2]"
>>>>>>> fe8c0365d7640cc0d45035e019f79e71f137dd38
   ]
  },
  {
   "cell_type": "code",
<<<<<<< HEAD
   "execution_count": 163,
   "id": "887ce5f9",
=======
   "execution_count": 21,
   "id": "df37a190",
>>>>>>> fe8c0365d7640cc0d45035e019f79e71f137dd38
   "metadata": {},
   "outputs": [
    {
     "data": {
      "text/plain": [
<<<<<<< HEAD
       "array([ 2.49590117,  6.17660862, 12.13211836, 21.76833556, 18.08762811])"
      ]
     },
     "execution_count": 163,
=======
       "array([[2, 4]])"
      ]
     },
     "execution_count": 21,
>>>>>>> fe8c0365d7640cc0d45035e019f79e71f137dd38
     "metadata": {},
     "output_type": "execute_result"
    }
   ],
   "source": [
<<<<<<< HEAD
    "np.linalg.eigvals(A)"
=======
    "A"
>>>>>>> fe8c0365d7640cc0d45035e019f79e71f137dd38
   ]
  },
  {
   "cell_type": "code",
<<<<<<< HEAD
   "execution_count": null,
   "id": "46f2a60b",
=======
   "execution_count": 22,
   "id": "76321cf1",
>>>>>>> fe8c0365d7640cc0d45035e019f79e71f137dd38
   "metadata": {},
   "outputs": [
    {
     "ename": "ValueError",
     "evalue": "can only convert an array of size 1 to a Python scalar",
     "output_type": "error",
     "traceback": [
      "\u001b[0;31m---------------------------------------------------------------------------\u001b[0m",
      "\u001b[0;31mValueError\u001b[0m                                Traceback (most recent call last)",
      "\u001b[0;32m/var/folders/_j/wjs37k8n3h12vq58nxycx6p80000gr/T/ipykernel_39668/2509132946.py\u001b[0m in \u001b[0;36m<module>\u001b[0;34m\u001b[0m\n\u001b[0;32m----> 1\u001b[0;31m \u001b[0mA\u001b[0m\u001b[0;34m.\u001b[0m\u001b[0mitem\u001b[0m\u001b[0;34m(\u001b[0m\u001b[0;34m)\u001b[0m\u001b[0;34m\u001b[0m\u001b[0;34m\u001b[0m\u001b[0m\n\u001b[0m",
      "\u001b[0;31mValueError\u001b[0m: can only convert an array of size 1 to a Python scalar"
     ]
    }
   ],
   "source": [
    "A.item()"
   ]
  },
  {
   "cell_type": "code",
   "execution_count": null,
   "id": "3b5adf20",
   "metadata": {},
   "outputs": [],
   "source": []
  }
 ],
 "metadata": {
  "kernelspec": {
   "display_name": "Python 3 (ipykernel)",
   "language": "python",
   "name": "python3"
  },
  "language_info": {
   "codemirror_mode": {
    "name": "ipython",
    "version": 3
   },
   "file_extension": ".py",
   "mimetype": "text/x-python",
   "name": "python",
   "nbconvert_exporter": "python",
   "pygments_lexer": "ipython3",
   "version": "3.9.7"
  }
 },
 "nbformat": 4,
 "nbformat_minor": 5
}
