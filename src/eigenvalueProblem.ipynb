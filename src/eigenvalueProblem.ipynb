{
 "cells": [
  {
   "cell_type": "code",
   "execution_count": 1,
   "id": "96c36c42",
   "metadata": {},
   "outputs": [],
   "source": [
    "## Import methods from\n",
    "%load_ext autoreload"
   ]
  },
  {
   "cell_type": "code",
   "execution_count": 2,
   "id": "22e09c2f",
   "metadata": {},
   "outputs": [],
   "source": [
    "%reload_ext autoreload\n",
    "from hessenberg import *\n",
    "from scipy.linalg import hessenberg as hessen\n",
    "from hessentestcase import hessenTestCase\n",
    "from collections.abc import Iterable\n",
    "import matplotlib.pyplot as plt\n",
    "from itertools import chain"
   ]
  },
  {
   "cell_type": "markdown",
   "id": "77137783",
   "metadata": {},
   "source": [
    "## Hessenberg Form Matrix"
   ]
  },
  {
   "cell_type": "code",
   "execution_count": 3,
   "id": "e59ffa01",
   "metadata": {},
   "outputs": [],
   "source": [
    "## Calculating different matrix for computing hessenberg form\n",
    "\n",
    "## test matrix\n",
    "A = np.array([[1,2,3,4], [5,6,7,8], [9, 8, 7, 6], [5,4, 3, 2]], dtype = float)\n",
    "#print(hessen(A))\n",
    "A0=hessen(A)"
   ]
  },
  {
   "cell_type": "code",
   "execution_count": 4,
   "id": "181c6f9b",
   "metadata": {},
   "outputs": [
    {
     "name": "stdout",
     "output_type": "stream",
     "text": [
      "Calculated hessenberg form is of order 1e-10 lower\n"
     ]
    }
   ],
   "source": [
    "## comparing the hessen output with implemented algorithm\n",
    "testcase = hessenTestCase(A)\n",
    "testcase.compare_bound(1*10**-10)"
   ]
  },
  {
   "cell_type": "code",
   "execution_count": 5,
   "id": "684eb79d",
   "metadata": {},
   "outputs": [
    {
     "name": "stdout",
     "output_type": "stream",
     "text": [
      "Calculated hessenberg form is of order 1e-10 lower\n"
     ]
    }
   ],
   "source": [
    "n = 5\n",
    "A = np.zeros((n, n))\n",
    "for i in range(n):\n",
    "    for j in range(n):\n",
    "        A[i,j] = 1/(i+1 + j+1 - 1)\n",
    "\n",
    "testcase = hessenTestCase(A)\n",
    "testcase.compare_bound(1*10**-10)"
   ]
  },
  {
   "cell_type": "markdown",
   "id": "3fd7ee0f",
   "metadata": {},
   "source": [
    "## Converging the hessenberg form matrix to diagonal\n",
    "\n",
    "\n",
    "* Research algorithms for phase 2"
   ]
  },
  {
   "cell_type": "code",
   "execution_count": 6,
   "id": "9f6f60b6",
   "metadata": {},
   "outputs": [],
   "source": [
    "import numpy as np\n",
    "from numpy.linalg import qr"
   ]
  },
  {
   "cell_type": "code",
   "execution_count": 7,
   "id": "cc619862",
   "metadata": {},
   "outputs": [
    {
     "name": "stdout",
     "output_type": "stream",
     "text": [
      "Iteration 1:\n",
      "[[3. 2.]\n",
      " [2. 0.]]\n",
      "Iteration 5:\n",
      "[[ 3.99998093  0.00976559]\n",
      " [ 0.00976559 -0.99998093]]\n",
      "Iteration 10:\n",
      "[[ 4.00000000e+00  9.53674316e-06]\n",
      " [ 9.53674316e-06 -1.00000000e+00]]\n",
      "Iteration 20:\n",
      "[[ 4.00000000e+00  9.09482285e-12]\n",
      " [ 9.09494702e-12 -1.00000000e+00]]\n"
     ]
    }
   ],
   "source": [
    "a = np.array([[0, 2], \n",
    "              [2, 3]])\n",
    "p = [1, 5, 10, 20]\n",
    "for i in range(20):\n",
    "    q, r = qr(a)\n",
    "    a = np.dot(r, q)\n",
    "    if i+1 in p:\n",
    "        print(f'Iteration {i+1}:')\n",
    "        print(a)"
   ]
  },
  {
   "cell_type": "code",
   "execution_count": 8,
   "id": "e20b4719",
   "metadata": {},
   "outputs": [
    {
     "data": {
      "text/plain": [
       "array([ 4., -1.])"
      ]
     },
     "execution_count": 8,
     "metadata": {},
     "output_type": "execute_result"
    }
   ],
   "source": [
    "np.linalg.eigvals(a)"
   ]
  },
  {
   "cell_type": "code",
   "execution_count": 9,
   "id": "e79355a7",
   "metadata": {},
   "outputs": [],
   "source": [
    "def householder(A):\n",
    "    \n",
    "    '''\n",
    "    Input: \n",
    "        A: matrix to be orthogonalized\n",
    "        Modifies A internally to create a R upper triangular matrix.\n",
    "    Return: \n",
    "        Q: orthonormal matrix\n",
    "        R: Upper triangular matrix\n",
    "    '''\n",
    "    \n",
    "    r, c = A.shape\n",
    "    A = np.copy(A)\n",
    "    Q = np.zeros((r,c))\n",
    "    \n",
    "    v = []\n",
    "    \n",
    "    for k in range(c):\n",
    "        \n",
    "        x = A[k:r,k]\n",
    "        e1= np.zeros(len(x)); e1[0] = 1\n",
    "        vk = np.sign(x)*np.linalg.norm(x,2)*e1 + x\n",
    "        vk = vk/np.linalg.norm(vk,2)\n",
    "        v.append(vk)\n",
    "        A[k:r, k:c] = A[k:r, k:c] - (2*np.outer(vk, vk))@A[k:r, k:c]\n",
    "     \n",
    "    ## calculating \n",
    "    for i in range(c):\n",
    "        x = np.zeros(r); x[i] = 1\n",
    "        for k in reversed(range(0, c)):\n",
    "            \n",
    "            vk_ = v[k]\n",
    "            x[k:r] = x[k:r] - 2*vk_*(vk_.T@x[k:r])\n",
    "            \n",
    "        Q[:,i] = x\n",
    "        \n",
    "    return Q,A[:c,:c]"
   ]
  },
  {
   "cell_type": "code",
   "execution_count": 101,
   "id": "9da2e7b1",
   "metadata": {},
   "outputs": [],
   "source": [
    "def QR_shift(matrix, eps, computed_eigvals,k):\n",
    "    \n",
    "    A = matrix.copy()\n",
    "    if A.shape[0] == 1:\n",
    "        \n",
    "        ##appending to eigvals list\n",
    "#         if A.shape[0] not in computed_eigvals\n",
    "        #computed_eigvals.append(A[0].item())\n",
    "        return A[0].item()\n",
    "    \n",
    "    while np.abs(np.sum(A[-1,0:-1])) > eps: #or check_deflation(A, eps)[0]:\n",
    "        \n",
    "        ## pick a miu\n",
    "        mu =  A[-1, -1] \n",
    "        \n",
    "        ## QR factorization with householder\n",
    "        Q, R = householder(A - mu*np.eye(A.shape[0]))\n",
    "        \n",
    "        ## Recalculate A; \n",
    "        A = R@Q + mu*np.eye(A.shape[0])\n",
    "        #print(A, '\\n')\n",
    "        ## check deflation and break the matrix.\n",
    "        b, idx = check_deflation(A, eps)\n",
    "        if idx != None:\n",
    "            #print(idx, A.shape)\n",
    "            ## setting (i,i+1), and (i+1, i) to zero\n",
    "            A[idx[0], idx[1]] = 0\n",
    "            A[idx[1], idx[0]] = 0\n",
    "            \n",
    "            ## splitting H to subdiagonals\n",
    "            A1 = A[0:idx[0]+1, 0:idx[0]+1]\n",
    "            A2 = A[idx[0]+1:A.shape[0], \n",
    "                    idx[0]+1:A.shape[0]]\n",
    "            \n",
    "            ## recursively performing QR-shift iteration on A1 and A2\n",
    "            #return QR_shift(A1, eps), QR_shift(A2, eps)\n",
    "            \n",
    "            return QR_shift(A1, eps, computed_eigvals, k), QR_shift(A2, eps, computed_eigvals, k)\n",
    "            \n",
    "    return\n",
    "\n",
    "def check_deflation(A, eps):\n",
    "    ##  check the sub-diagonals < eps\n",
    "    ## return sub-diagonals index\n",
    "    \n",
    "    for i in range(A.shape[0]-1):\n",
    "        if abs(A[i+1, i]) < eps: \n",
    "            return (True, (i, i+1))\n",
    "    return (False, None)"
   ]
  },
  {
   "cell_type": "code",
   "execution_count": 102,
   "id": "04b0688c",
   "metadata": {},
   "outputs": [
    {
     "name": "stdout",
     "output_type": "stream",
     "text": [
      "((15.766890392317112, -2.269846387630128), 0.5029559953130315)\n",
      "[15.76689039  0.502956   -2.26984639]\n"
     ]
    }
   ],
   "source": [
    "k =0\n",
    "computed_eigvals = []\n",
    "A = np.array([[1,2,4], [2,6,8], [4, 8, 7]], dtype = float)\n",
    "A0 = hessen(A)\n",
    "print(QR_shift(A0, 10**-12, computed_eigvals, k))\n",
    "#computed_eigvals = np.array(sorted(np.array(computed_eigvals)))\n",
    "inbuilt_eigvals = np.linalg.eigvals(A)                          \n",
    "print(inbuilt_eigvals)\n",
    "# np.linalg.norm(computed_eigvals - inbuilt_eigvals,2)"
   ]
  },
  {
   "cell_type": "code",
   "execution_count": 103,
   "id": "22e3693c",
   "metadata": {},
   "outputs": [
    {
     "data": {
      "text/plain": [
       "False"
      ]
     },
     "execution_count": 103,
     "metadata": {},
     "output_type": "execute_result"
    }
   ],
   "source": [
    "check_deflation(A, 10**-4)[0]"
   ]
  },
  {
   "cell_type": "code",
   "execution_count": null,
   "id": "bec85265",
   "metadata": {},
   "outputs": [],
   "source": []
  },
  {
   "cell_type": "code",
   "execution_count": 104,
   "id": "e9900fca",
   "metadata": {},
   "outputs": [
    {
     "name": "stdout",
     "output_type": "stream",
     "text": [
      "(((18.46928438164622, -3.7863364227905882), 3.7854691088446044), -0.46841706770020464)\n",
      "[18.46928438  3.78546911 -3.78633642 -0.46841707]\n"
     ]
    }
   ],
   "source": [
    "computed_eigvals = []\n",
    "A = np.array([[1,2,4,5], \n",
    "              [2,6,8, 4], \n",
    "              [4, 8, 7, 3], \n",
    "              [5, 4, 3, 4]\n",
    "             ], dtype = float)\n",
    "A0 = hessen(A)\n",
    "print(QR_shift(A0, 10**-6, computed_eigvals, k))\n",
    "# computed_eigvals = np.array(sorted(np.array(computed_eigvals)))\n",
    "inbuilt_eigvals =np.linalg.eigvals(A)\n",
    "print(inbuilt_eigvals)\n",
    "# np.linalg.norm(computed_eigvals - inbuilt_eigvals,2)\n",
    "\n",
    "# plt.plot(range(len(inbuilt_eigvals)), inbuilt_eigvals, label = \"input\")\n",
    "# plt.plot(range(len(computed_eigvals)), computed_eigvals, label = \"computed\")\n",
    "# plt.legend()"
   ]
  },
  {
   "cell_type": "code",
   "execution_count": 105,
   "id": "6061f66c",
   "metadata": {},
   "outputs": [
    {
     "data": {
      "text/plain": [
       "array([[ 1.00000000e+00, -6.70820393e+00, -4.30694199e-16,\n",
       "         4.32032588e-16],\n",
       "       [-6.70820393e+00,  1.25333333e+01, -6.84462482e+00,\n",
       "        -2.62316179e-15],\n",
       "       [ 0.00000000e+00, -6.84462482e+00,  4.24904026e+00,\n",
       "        -2.24900794e+00],\n",
       "       [ 0.00000000e+00,  0.00000000e+00, -2.24900794e+00,\n",
       "         2.17626411e-01]])"
      ]
     },
     "execution_count": 105,
     "metadata": {},
     "output_type": "execute_result"
    }
   ],
   "source": [
    "A0"
   ]
  },
  {
   "cell_type": "code",
   "execution_count": 106,
   "id": "94bbdec2",
   "metadata": {},
   "outputs": [
    {
     "name": "stdout",
     "output_type": "stream",
     "text": [
      "((((((5.459739355408075, (((-1.3430731577465287, 1.3462280682657433), -0.7170293233731412), -0.41095912203925494)), 0.8997956846148463), 0.7771138494307779), 0.5183054478418537), 0.1304691685009324), 0.13960901483784463)\n"
     ]
    }
   ],
   "source": [
    "H1 = np.array([[8, 11, 4, 3], \n",
    "              [11, 12, 4, 7], \n",
    "              [4, 4, 7, 12], \n",
    "              [3, 7, 12, 17]])\n",
    "\n",
    "U = np.random.uniform(low=0, high=1.0, size=(10, 10))\n",
    "S = np.tril(U) + np.tril(U, -1).T\n",
    "A0 = hessen(S)\n",
    "computed_eigvals = []\n",
    "print(QR_shift(A0, 10**-6, computed_eigvals, k))\n",
    "# computed_eigvals = np.array(sorted(np.array(computed_eigvals)))\n",
    "# print(len(np.linalg.eigvals(S)))\n",
    "# print(len(computed_eigvals))\n",
    "# inbuilt_eigvals = np.array(sorted(np.linalg.eigvals(S)))\n",
    "# print(computed_eigvals)\n",
    "# np.linalg.norm(computed_eigvals - inbuilt_eigvals,2)"
   ]
  },
  {
   "cell_type": "code",
   "execution_count": 107,
   "id": "41a560c9",
   "metadata": {},
   "outputs": [
    {
     "data": {
      "text/plain": [
       "array([[1., 2., 4., 5.],\n",
       "       [2., 6., 8., 4.],\n",
       "       [4., 8., 7., 3.],\n",
       "       [5., 4., 3., 4.]])"
      ]
     },
     "execution_count": 107,
     "metadata": {},
     "output_type": "execute_result"
    }
   ],
   "source": [
    "A"
   ]
  },
  {
   "cell_type": "code",
   "execution_count": 15,
   "id": "44384364",
   "metadata": {},
   "outputs": [
    {
     "ename": "NameError",
     "evalue": "name 'unravel' is not defined",
     "output_type": "error",
     "traceback": [
      "\u001b[0;31m---------------------------------------------------------------------------\u001b[0m",
      "\u001b[0;31mNameError\u001b[0m                                 Traceback (most recent call last)",
      "\u001b[0;32m/var/folders/_j/wjs37k8n3h12vq58nxycx6p80000gr/T/ipykernel_39668/2431390491.py\u001b[0m in \u001b[0;36m<module>\u001b[0;34m\u001b[0m\n\u001b[0;32m----> 1\u001b[0;31m \u001b[0mprint\u001b[0m\u001b[0;34m(\u001b[0m\u001b[0munravel\u001b[0m\u001b[0;34m(\u001b[0m\u001b[0mresult\u001b[0m\u001b[0;34m)\u001b[0m\u001b[0;34m)\u001b[0m\u001b[0;34m\u001b[0m\u001b[0;34m\u001b[0m\u001b[0m\n\u001b[0m",
      "\u001b[0;31mNameError\u001b[0m: name 'unravel' is not defined"
     ]
    }
   ],
   "source": [
    "print(unravel(result))"
   ]
  },
  {
   "cell_type": "code",
   "execution_count": 21,
   "id": "0b94b2ae",
   "metadata": {},
   "outputs": [
    {
     "data": {
      "text/plain": [
       "array([[2, 4]])"
      ]
     },
     "execution_count": 21,
     "metadata": {},
     "output_type": "execute_result"
    }
   ],
   "source": [
    "A"
   ]
  },
  {
   "cell_type": "code",
   "execution_count": 22,
   "id": "76321cf1",
   "metadata": {},
   "outputs": [
    {
     "ename": "ValueError",
     "evalue": "can only convert an array of size 1 to a Python scalar",
     "output_type": "error",
     "traceback": [
      "\u001b[0;31m---------------------------------------------------------------------------\u001b[0m",
      "\u001b[0;31mValueError\u001b[0m                                Traceback (most recent call last)",
      "\u001b[0;32m/var/folders/_j/wjs37k8n3h12vq58nxycx6p80000gr/T/ipykernel_39668/2509132946.py\u001b[0m in \u001b[0;36m<module>\u001b[0;34m\u001b[0m\n\u001b[0;32m----> 1\u001b[0;31m \u001b[0mA\u001b[0m\u001b[0;34m.\u001b[0m\u001b[0mitem\u001b[0m\u001b[0;34m(\u001b[0m\u001b[0;34m)\u001b[0m\u001b[0;34m\u001b[0m\u001b[0;34m\u001b[0m\u001b[0m\n\u001b[0m",
      "\u001b[0;31mValueError\u001b[0m: can only convert an array of size 1 to a Python scalar"
     ]
    }
   ],
   "source": [
    "A.item()"
   ]
  },
  {
   "cell_type": "code",
   "execution_count": null,
   "id": "c32510c3",
   "metadata": {},
   "outputs": [],
   "source": []
  }
 ],
 "metadata": {
  "kernelspec": {
   "display_name": "Python 3 (ipykernel)",
   "language": "python",
   "name": "python3"
  },
  "language_info": {
   "codemirror_mode": {
    "name": "ipython",
    "version": 3
   },
   "file_extension": ".py",
   "mimetype": "text/x-python",
   "name": "python",
   "nbconvert_exporter": "python",
   "pygments_lexer": "ipython3",
   "version": "3.9.7"
  }
 },
 "nbformat": 4,
 "nbformat_minor": 5
}
