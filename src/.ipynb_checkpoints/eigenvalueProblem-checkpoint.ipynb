{
 "cells": [
  {
   "cell_type": "code",
   "execution_count": 1,
   "id": "96c36c42",
   "metadata": {},
   "outputs": [],
   "source": [
    "## Import methods from\n",
    "%load_ext autoreload"
   ]
  },
  {
   "cell_type": "code",
   "execution_count": 2,
   "id": "22e09c2f",
   "metadata": {},
   "outputs": [],
   "source": [
    "%reload_ext autoreload\n",
    "from hessenberg import *\n",
    "from scipy.linalg import hessenberg as hessen\n",
    "from hessentestcase import hessenTestCase\n",
    "from collections.abc import Iterable\n",
    "import matplotlib.pyplot as plt\n",
    "from itertools import chain"
   ]
  },
  {
   "cell_type": "markdown",
   "id": "77137783",
   "metadata": {},
   "source": [
    "## Hessenberg Form Matrix"
   ]
  },
  {
   "cell_type": "code",
   "execution_count": 3,
   "id": "e59ffa01",
   "metadata": {},
   "outputs": [],
   "source": [
    "## Calculating different matrix for computing hessenberg form\n",
    "\n",
    "## test matrix\n",
    "A = np.array([[1,2,3,4], [5,6,7,8], [9, 8, 7, 6], [5,4, 3, 2]], dtype = float)\n",
    "#print(hessen(A))\n",
    "A0=hessen(A)"
   ]
  },
  {
   "cell_type": "code",
   "execution_count": 4,
   "id": "181c6f9b",
   "metadata": {},
   "outputs": [
    {
     "name": "stdout",
     "output_type": "stream",
     "text": [
      "Calculated hessenberg form is of order 1e-10 lower\n"
     ]
    }
   ],
   "source": [
    "## comparing the hessen output with implemented algorithm\n",
    "testcase = hessenTestCase(A)\n",
    "testcase.compare_bound(1*10**-10)"
   ]
  },
  {
   "cell_type": "code",
   "execution_count": 5,
   "id": "684eb79d",
   "metadata": {},
   "outputs": [
    {
     "name": "stdout",
     "output_type": "stream",
     "text": [
      "Calculated hessenberg form is of order 1e-10 lower\n"
     ]
    }
   ],
   "source": [
    "n = 5\n",
    "A = np.zeros((n, n))\n",
    "for i in range(n):\n",
    "    for j in range(n):\n",
    "        A[i,j] = 1/(i+1 + j+1 - 1)\n",
    "\n",
    "testcase = hessenTestCase(A)\n",
    "testcase.compare_bound(1*10**-10)"
   ]
  },
  {
   "cell_type": "markdown",
   "id": "3fd7ee0f",
   "metadata": {},
   "source": [
    "## Converging the hessenberg form matrix to diagonal\n",
    "\n",
    "\n",
    "* Research algorithms for phase 2"
   ]
  },
  {
   "cell_type": "code",
   "execution_count": 6,
   "id": "9f6f60b6",
   "metadata": {},
   "outputs": [],
   "source": [
    "import numpy as np\n",
    "from numpy.linalg import qr"
   ]
  },
  {
   "cell_type": "code",
   "execution_count": 7,
   "id": "cc619862",
   "metadata": {},
   "outputs": [
    {
     "name": "stdout",
     "output_type": "stream",
     "text": [
      "Iteration 1:\n",
      "[[3. 2.]\n",
      " [2. 0.]]\n",
      "Iteration 5:\n",
      "[[ 3.99998093  0.00976559]\n",
      " [ 0.00976559 -0.99998093]]\n",
      "Iteration 10:\n",
      "[[ 4.00000000e+00  9.53674316e-06]\n",
      " [ 9.53674316e-06 -1.00000000e+00]]\n",
      "Iteration 20:\n",
      "[[ 4.00000000e+00  9.09484250e-12]\n",
      " [ 9.09494702e-12 -1.00000000e+00]]\n"
     ]
    }
   ],
   "source": [
    "a = np.array([[0, 2], \n",
    "              [2, 3]])\n",
    "p = [1, 5, 10, 20]\n",
    "for i in range(20):\n",
    "    q, r = qr(a)\n",
    "    a = np.dot(r, q)\n",
    "    if i+1 in p:\n",
    "        print(f'Iteration {i+1}:')\n",
    "        print(a)"
   ]
  },
  {
   "cell_type": "code",
   "execution_count": 8,
   "id": "e20b4719",
   "metadata": {},
   "outputs": [
    {
     "data": {
      "text/plain": [
       "array([ 4., -1.])"
      ]
     },
     "execution_count": 8,
     "metadata": {},
     "output_type": "execute_result"
    }
   ],
   "source": [
    "np.linalg.eigvals(a)"
   ]
  },
  {
   "cell_type": "code",
   "execution_count": 9,
   "id": "e79355a7",
   "metadata": {},
   "outputs": [],
   "source": [
    "def householder(A):\n",
    "    \n",
    "    '''\n",
    "    Input: \n",
    "        A: matrix to be orthogonalized\n",
    "        Modifies A internally to create a R upper triangular matrix.\n",
    "    Return: \n",
    "        Q: orthonormal matrix\n",
    "        R: Upper triangular matrix\n",
    "    '''\n",
    "    \n",
    "    r, c = A.shape\n",
    "    A = np.copy(A)\n",
    "    Q = np.zeros((r,c))\n",
    "    \n",
    "    v = []\n",
    "    \n",
    "    for k in range(c):\n",
    "        \n",
    "        x = A[k:r,k]\n",
    "        e1= np.zeros(len(x)); e1[0] = 1\n",
    "        vk = np.sign(x)*np.linalg.norm(x,2)*e1 + x\n",
    "        vk = vk/np.linalg.norm(vk,2)\n",
    "        v.append(vk)\n",
    "        A[k:r, k:c] = A[k:r, k:c] - (2*np.outer(vk, vk))@A[k:r, k:c]\n",
    "     \n",
    "    ## calculating \n",
    "    for i in range(c):\n",
    "        x = np.zeros(r); x[i] = 1\n",
    "        for k in reversed(range(0, c)):\n",
    "            \n",
    "            vk_ = v[k]\n",
    "            x[k:r] = x[k:r] - 2*vk_*(vk_.T@x[k:r])\n",
    "            \n",
    "        Q[:,i] = x\n",
    "        \n",
    "    return Q,A[:c,:c]"
   ]
  },
  {
   "cell_type": "code",
   "execution_count": 93,
   "id": "9da2e7b1",
   "metadata": {},
   "outputs": [],
   "source": [
    "def QR_shift(matrix, eps, computed_eigvals, k):\n",
    "    \n",
    "    # some changes about an empty matrices\n",
    "    # when size(empty) == 0\n",
    "    \n",
    "#    if A.ahs\n",
    "    A = matrix.copy()\n",
    "    print(A.shape)\n",
    "    if A.shape[0] == 1 :\n",
    "        #print(A.shape)\n",
    "        ##appending to eigvals list\n",
    "#         if A.shape[0] not in computed_eigvals:\n",
    "        computed_eigvals.append(A[0].item())\n",
    "        # return A[0].item()\n",
    "        return\n",
    "    \n",
    "    while np.abs(np.sum(A[-1,0:-1])) > eps or check_deflation[0]:\n",
    "        \n",
    "        ## pick a miu\n",
    "        mu =  A[-1, -1] \n",
    "        \n",
    "        ## QR factorization with householder\n",
    "        Q, R = householder(A - mu*np.eye(A.shape[0]))\n",
    "        \n",
    "        ## Recalculate A; \n",
    "        A = R@Q + mu*np.eye(A.shape[0])\n",
    "        \n",
    "        ## check deflation and break the matrix.\n",
    "        b, idx = check_deflation(A, eps)\n",
    "        if idx != None:\n",
    "            \n",
    "            ## setting (i,i+1), and (i+1, i) to zero\n",
    "            A[idx[0], idx[1]] = 0\n",
    "            A[idx[1], idx[0]] = 0\n",
    "            \n",
    "            ## splitting H to subdiagonals\n",
    "            A1 = A[0:idx[0]+1, 0:idx[0]+1]\n",
    "            A2 = A[idx[0]+1:A.shape[0], \n",
    "                    idx[0]+1:A.shape[0]]\n",
    "            \n",
    "            ## recursively performing QR-shift iteration on A1 and A2\n",
    "            #return QR_shift(A1, eps), QR_shift(A2, eps)\n",
    "            \n",
    "            # return \n",
    "            QR_shift(A1, eps, computed_eigvals, k)\n",
    "            QR_shift(A2, eps, computed_eigvals, k)\n",
    "            \n",
    "        # return\n",
    "            \n",
    "    return\n",
    "\n",
    "def check_deflation(A, eps):\n",
    "    \n",
    "    for i in range(A.shape[0]-1):\n",
    "        if abs(A[i+1, i]) < eps: \n",
    "            return (True, (i, i+1))\n",
    "    return (False, None)"
   ]
  },
  {
   "cell_type": "code",
   "execution_count": 92,
   "id": "04b0688c",
   "metadata": {},
   "outputs": [
    {
     "name": "stdout",
     "output_type": "stream",
     "text": [
      "(3, 3)\n",
      "(2, 2)\n",
      "(1, 1)\n",
      "(1, 1)\n"
     ]
    },
    {
     "ename": "TypeError",
     "evalue": "'function' object is not subscriptable",
     "output_type": "error",
     "traceback": [
      "\u001b[0;31m---------------------------------------------------------------------------\u001b[0m",
      "\u001b[0;31mTypeError\u001b[0m                                 Traceback (most recent call last)",
      "\u001b[0;32m/var/folders/nh/ckrbmdkd1k3cyz7qjmn3nfdw0000gp/T/ipykernel_33741/1493663354.py\u001b[0m in \u001b[0;36m<module>\u001b[0;34m\u001b[0m\n\u001b[1;32m      3\u001b[0m \u001b[0mA\u001b[0m \u001b[0;34m=\u001b[0m \u001b[0mnp\u001b[0m\u001b[0;34m.\u001b[0m\u001b[0marray\u001b[0m\u001b[0;34m(\u001b[0m\u001b[0;34m[\u001b[0m\u001b[0;34m[\u001b[0m\u001b[0;36m1\u001b[0m\u001b[0;34m,\u001b[0m\u001b[0;36m2\u001b[0m\u001b[0;34m,\u001b[0m\u001b[0;36m4\u001b[0m\u001b[0;34m]\u001b[0m\u001b[0;34m,\u001b[0m \u001b[0;34m[\u001b[0m\u001b[0;36m2\u001b[0m\u001b[0;34m,\u001b[0m\u001b[0;36m6\u001b[0m\u001b[0;34m,\u001b[0m\u001b[0;36m8\u001b[0m\u001b[0;34m]\u001b[0m\u001b[0;34m,\u001b[0m \u001b[0;34m[\u001b[0m\u001b[0;36m4\u001b[0m\u001b[0;34m,\u001b[0m \u001b[0;36m8\u001b[0m\u001b[0;34m,\u001b[0m \u001b[0;36m7\u001b[0m\u001b[0;34m]\u001b[0m\u001b[0;34m]\u001b[0m\u001b[0;34m,\u001b[0m \u001b[0mdtype\u001b[0m \u001b[0;34m=\u001b[0m \u001b[0mfloat\u001b[0m\u001b[0;34m)\u001b[0m\u001b[0;34m\u001b[0m\u001b[0;34m\u001b[0m\u001b[0m\n\u001b[1;32m      4\u001b[0m \u001b[0mA0\u001b[0m \u001b[0;34m=\u001b[0m \u001b[0mhessen\u001b[0m\u001b[0;34m(\u001b[0m\u001b[0mA\u001b[0m\u001b[0;34m)\u001b[0m\u001b[0;34m\u001b[0m\u001b[0;34m\u001b[0m\u001b[0m\n\u001b[0;32m----> 5\u001b[0;31m \u001b[0mQR_shift\u001b[0m\u001b[0;34m(\u001b[0m\u001b[0mA0\u001b[0m\u001b[0;34m,\u001b[0m \u001b[0;36m10\u001b[0m\u001b[0;34m**\u001b[0m\u001b[0;34m-\u001b[0m\u001b[0;36m8\u001b[0m\u001b[0;34m,\u001b[0m \u001b[0mcomputed_eigvals\u001b[0m\u001b[0;34m,\u001b[0m \u001b[0mk\u001b[0m\u001b[0;34m)\u001b[0m\u001b[0;34m\u001b[0m\u001b[0;34m\u001b[0m\u001b[0m\n\u001b[0m\u001b[1;32m      6\u001b[0m \u001b[0;31m# computed_eigvals = np.array(sorted(np.array(computed_eigvals)))\u001b[0m\u001b[0;34m\u001b[0m\u001b[0;34m\u001b[0m\u001b[0m\n\u001b[1;32m      7\u001b[0m \u001b[0;31m# inbuilt_eigvals = np.array(sorted(np.linalg.eigvals(A)))\u001b[0m\u001b[0;34m\u001b[0m\u001b[0;34m\u001b[0m\u001b[0m\n",
      "\u001b[0;32m/var/folders/nh/ckrbmdkd1k3cyz7qjmn3nfdw0000gp/T/ipykernel_33741/1530797259.py\u001b[0m in \u001b[0;36mQR_shift\u001b[0;34m(matrix, eps, computed_eigvals, k)\u001b[0m\n\u001b[1;32m     43\u001b[0m \u001b[0;34m\u001b[0m\u001b[0m\n\u001b[1;32m     44\u001b[0m             \u001b[0;31m# return\u001b[0m\u001b[0;34m\u001b[0m\u001b[0;34m\u001b[0m\u001b[0m\n\u001b[0;32m---> 45\u001b[0;31m             \u001b[0mQR_shift\u001b[0m\u001b[0;34m(\u001b[0m\u001b[0mA1\u001b[0m\u001b[0;34m,\u001b[0m \u001b[0meps\u001b[0m\u001b[0;34m,\u001b[0m \u001b[0mcomputed_eigvals\u001b[0m\u001b[0;34m,\u001b[0m \u001b[0mk\u001b[0m\u001b[0;34m)\u001b[0m\u001b[0;34m\u001b[0m\u001b[0;34m\u001b[0m\u001b[0m\n\u001b[0m\u001b[1;32m     46\u001b[0m             \u001b[0mQR_shift\u001b[0m\u001b[0;34m(\u001b[0m\u001b[0mA2\u001b[0m\u001b[0;34m,\u001b[0m \u001b[0meps\u001b[0m\u001b[0;34m,\u001b[0m \u001b[0mcomputed_eigvals\u001b[0m\u001b[0;34m,\u001b[0m \u001b[0mk\u001b[0m\u001b[0;34m)\u001b[0m\u001b[0;34m\u001b[0m\u001b[0;34m\u001b[0m\u001b[0m\n\u001b[1;32m     47\u001b[0m \u001b[0;34m\u001b[0m\u001b[0m\n",
      "\u001b[0;32m/var/folders/nh/ckrbmdkd1k3cyz7qjmn3nfdw0000gp/T/ipykernel_33741/1530797259.py\u001b[0m in \u001b[0;36mQR_shift\u001b[0;34m(matrix, eps, computed_eigvals, k)\u001b[0m\n\u001b[1;32m     15\u001b[0m         \u001b[0;32mreturn\u001b[0m\u001b[0;34m\u001b[0m\u001b[0;34m\u001b[0m\u001b[0m\n\u001b[1;32m     16\u001b[0m \u001b[0;34m\u001b[0m\u001b[0m\n\u001b[0;32m---> 17\u001b[0;31m     \u001b[0;32mwhile\u001b[0m \u001b[0mnp\u001b[0m\u001b[0;34m.\u001b[0m\u001b[0mabs\u001b[0m\u001b[0;34m(\u001b[0m\u001b[0mnp\u001b[0m\u001b[0;34m.\u001b[0m\u001b[0msum\u001b[0m\u001b[0;34m(\u001b[0m\u001b[0mA\u001b[0m\u001b[0;34m[\u001b[0m\u001b[0;34m-\u001b[0m\u001b[0;36m1\u001b[0m\u001b[0;34m,\u001b[0m\u001b[0;36m0\u001b[0m\u001b[0;34m:\u001b[0m\u001b[0;34m-\u001b[0m\u001b[0;36m1\u001b[0m\u001b[0;34m]\u001b[0m\u001b[0;34m)\u001b[0m\u001b[0;34m)\u001b[0m \u001b[0;34m>\u001b[0m \u001b[0meps\u001b[0m \u001b[0;32mor\u001b[0m \u001b[0mcheck_deflation\u001b[0m\u001b[0;34m[\u001b[0m\u001b[0;36m0\u001b[0m\u001b[0;34m]\u001b[0m\u001b[0;34m:\u001b[0m\u001b[0;34m\u001b[0m\u001b[0;34m\u001b[0m\u001b[0m\n\u001b[0m\u001b[1;32m     18\u001b[0m \u001b[0;34m\u001b[0m\u001b[0m\n\u001b[1;32m     19\u001b[0m         \u001b[0;31m## pick a miu\u001b[0m\u001b[0;34m\u001b[0m\u001b[0;34m\u001b[0m\u001b[0m\n",
      "\u001b[0;31mTypeError\u001b[0m: 'function' object is not subscriptable"
     ]
    }
   ],
   "source": [
    "k = 0\n",
    "computed_eigvals = []\n",
    "A = np.array([[1,2,4], [2,6,8], [4, 8, 7]], dtype = float)\n",
    "A0 = hessen(A)\n",
    "QR_shift(A0, 10**-8, computed_eigvals, k)\n",
    "# computed_eigvals = np.array(sorted(np.array(computed_eigvals)))\n",
    "# inbuilt_eigvals = np.array(sorted(np.linalg.eigvals(A)))\n",
    "# np.linalg.norm(computed_eigvals - inbuilt_eigvals,2)"
   ]
  },
  {
   "cell_type": "code",
   "execution_count": 84,
   "id": "bec85265",
   "metadata": {},
   "outputs": [
    {
     "data": {
      "text/plain": [
       "2"
      ]
     },
     "execution_count": 84,
     "metadata": {},
     "output_type": "execute_result"
    }
   ],
   "source": [
    "len(((15.766890392317098, -2.2698463876301216), 0.502955995313032))"
   ]
  },
  {
   "cell_type": "code",
   "execution_count": 79,
   "id": "e9900fca",
   "metadata": {},
   "outputs": [
    {
     "name": "stdout",
     "output_type": "stream",
     "text": [
      "(4, 4)\n",
      "(3, 3)\n",
      "(2, 2)\n",
      "(1, 1)\n",
      "(1, 1)\n",
      "(1, 1)\n",
      "(1, 1)\n",
      "[]\n"
     ]
    }
   ],
   "source": [
    "computed_eigvals = []\n",
    "A = np.array([[1,2,4,5], \n",
    "              [2,6,8, 4], \n",
    "              [4, 8, 7, 3], \n",
    "              [5, 4, 3, 4]\n",
    "             ], dtype = float)\n",
    "A0 = hessen(A)\n",
    "QR_shift(A0, 10**-5, computed_eigvals, k)\n",
    "# computed_eigvals = np.array(sorted(np.array(computed_eigvals)))\n",
    "# inbuilt_eigvals = np.array(sorted(np.linalg.eigvals(A)))\n",
    "# print(computed_eigvals)\n",
    "# np.linalg.norm(computed_eigvals - inbuilt_eigvals,2)\n",
    "\n",
    "# plt.plot(range(len(inbuilt_eigvals)), inbuilt_eigvals, label = \"input\")\n",
    "# plt.plot(range(len(computed_eigvals)), computed_eigvals, label = \"computed\")\n",
    "# plt.legend()\n",
    "print(computed_eigvals)"
   ]
  },
  {
   "cell_type": "code",
   "execution_count": null,
   "id": "6061f66c",
   "metadata": {},
   "outputs": [],
   "source": []
  },
  {
   "cell_type": "code",
   "execution_count": 80,
   "id": "94bbdec2",
   "metadata": {},
   "outputs": [
    {
     "name": "stdout",
     "output_type": "stream",
     "text": [
      "(40, 40)\n",
      "(39, 39)\n",
      "(38, 38)\n",
      "(37, 37)\n",
      "(1, 1)\n",
      "(36, 36)\n",
      "(35, 35)\n",
      "(34, 34)\n",
      "(33, 33)\n",
      "(32, 32)\n",
      "(31, 31)\n",
      "(30, 30)\n",
      "(29, 29)\n",
      "(28, 28)\n",
      "(27, 27)\n",
      "(26, 26)\n",
      "(25, 25)\n",
      "(24, 24)\n",
      "(23, 23)\n",
      "(22, 22)\n",
      "(21, 21)\n",
      "(20, 20)\n",
      "(19, 19)\n",
      "(18, 18)\n",
      "(17, 17)\n",
      "(16, 16)\n",
      "(15, 15)\n",
      "(14, 14)\n",
      "(13, 13)\n",
      "(12, 12)\n",
      "(11, 11)\n",
      "(10, 10)\n",
      "(9, 9)\n",
      "(8, 8)\n",
      "(7, 7)\n",
      "(6, 6)\n",
      "(5, 5)\n",
      "(4, 4)\n",
      "(3, 3)\n",
      "(2, 2)\n",
      "(1, 1)\n",
      "(1, 1)\n",
      "(1, 1)\n",
      "(1, 1)\n",
      "(1, 1)\n",
      "(1, 1)\n",
      "(1, 1)\n",
      "(1, 1)\n",
      "(1, 1)\n",
      "(1, 1)\n",
      "(1, 1)\n",
      "(1, 1)\n",
      "(1, 1)\n",
      "(1, 1)\n",
      "(1, 1)\n",
      "(1, 1)\n",
      "(1, 1)\n",
      "(1, 1)\n",
      "(1, 1)\n",
      "(1, 1)\n",
      "(1, 1)\n",
      "(1, 1)\n",
      "(1, 1)\n",
      "(1, 1)\n",
      "(1, 1)\n",
      "(1, 1)\n",
      "(1, 1)\n",
      "(1, 1)\n",
      "(1, 1)\n",
      "(1, 1)\n",
      "(1, 1)\n",
      "(1, 1)\n",
      "(1, 1)\n",
      "(1, 1)\n",
      "(1, 1)\n",
      "(1, 1)\n",
      "(1, 1)\n",
      "(1, 1)\n",
      "(1, 1)\n"
     ]
    },
    {
     "data": {
      "text/plain": [
       "((((19.638726794185523,\n",
       "    (((((((((((((((((((((((((((((((((((-3.317716289016514, 3.164920537502247),\n",
       "                                      3.0533814917032243),\n",
       "                                     -3.0263001198297936),\n",
       "                                    2.747193509185624),\n",
       "                                   -2.714555627881832),\n",
       "                                  2.557361896345899),\n",
       "                                 -2.480379119734262),\n",
       "                                2.371973624005531),\n",
       "                               -2.245453756588492),\n",
       "                              -2.1598669755551216),\n",
       "                             2.190246054057478),\n",
       "                            -1.9000648083150171),\n",
       "                           -1.821166934286141),\n",
       "                          -1.6202899159300146),\n",
       "                         -1.5000246389211385),\n",
       "                        1.7372876878274297),\n",
       "                       1.6928255326779393),\n",
       "                      1.5793952582871151),\n",
       "                     1.469597244553303),\n",
       "                    -1.260647304304674),\n",
       "                   1.350414568456233),\n",
       "                  1.2190831757773473),\n",
       "                 -1.200390619181396),\n",
       "                -1.1060309995211333),\n",
       "               -0.8291038963872518),\n",
       "              -0.8628944212303151),\n",
       "             0.9891381644752908),\n",
       "            -0.5331178122099399),\n",
       "           -0.4684390813534433),\n",
       "          0.8384687236021423),\n",
       "         0.6418613218617325),\n",
       "        0.5209506491556414),\n",
       "       -0.09382454613241499),\n",
       "      0.3658387635429438),\n",
       "     0.23028900916852368)),\n",
       "   0.0016446636749360187),\n",
       "  0.05885215181790134),\n",
       " -0.29043896546124814)"
      ]
     },
     "execution_count": 80,
     "metadata": {},
     "output_type": "execute_result"
    }
   ],
   "source": [
    "H1 = np.array([[8, 11, 4, 3], \n",
    "              [11, 12, 4, 7], \n",
    "              [4, 4, 7, 12], \n",
    "              [3, 7, 12, 17]])\n",
    "\n",
    "U = np.random.uniform(low=0, high=1.0, size=(40, 40))\n",
    "S = np.tril(U) + np.tril(U, -1).T\n",
    "A0 = hessen(S)\n",
    "computed_eigvals = []\n",
    "QR_shift(A0, 10**-5, computed_eigvals, k)\n",
    "# computed_eigvals = np.array(sorted(np.array(computed_eigvals)))\n",
    "# print(len(np.linalg.eigvals(S)))\n",
    "# print(len(computed_eigvals))\n",
    "# inbuilt_eigvals = np.array(sorted(np.linalg.eigvals(S)))\n",
    "# print(computed_eigvals)\n",
    "# np.linalg.norm(computed_eigvals - inbuilt_eigvals,2)"
   ]
  },
  {
   "cell_type": "code",
   "execution_count": 59,
   "id": "41a560c9",
   "metadata": {},
   "outputs": [
    {
     "name": "stdout",
     "output_type": "stream",
     "text": [
      "0\n"
     ]
    }
   ],
   "source": [
    "print(len(computed_eigvals))"
   ]
  },
  {
   "cell_type": "code",
   "execution_count": null,
   "id": "daf48687",
   "metadata": {},
   "outputs": [],
   "source": []
  }
 ],
 "metadata": {
  "kernelspec": {
   "display_name": "Python 3 (ipykernel)",
   "language": "python",
   "name": "python3"
  },
  "language_info": {
   "codemirror_mode": {
    "name": "ipython",
    "version": 3
   },
   "file_extension": ".py",
   "mimetype": "text/x-python",
   "name": "python",
   "nbconvert_exporter": "python",
   "pygments_lexer": "ipython3",
   "version": "3.9.10"
  }
 },
 "nbformat": 4,
 "nbformat_minor": 5
}
