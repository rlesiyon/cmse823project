{
 "cells": [
  {
   "cell_type": "code",
   "execution_count": 170,
   "id": "5fef2044",
   "metadata": {},
   "outputs": [],
   "source": [
    "from hessenberg import *"
   ]
  },
  {
   "cell_type": "code",
   "execution_count": 171,
   "id": "6ceb5d5b",
   "metadata": {},
   "outputs": [
    {
     "data": {
      "text/plain": [
       "array([[ 1.00000000e+00,  3.33333333e+00, -1.26666667e+00,\n",
       "         5.33333333e-01],\n",
       "       [ 3.00000000e+00, -8.88178420e-16,  2.13333333e+00,\n",
       "         6.66666667e-02],\n",
       "       [-4.44089210e-16, -5.00000000e+00,  7.73333333e-01,\n",
       "         2.58666667e+00],\n",
       "       [-4.44089210e-16,  0.00000000e+00, -7.46666667e-01,\n",
       "        -7.73333333e-01]])"
      ]
     },
     "execution_count": 171,
     "metadata": {},
     "output_type": "execute_result"
    }
   ],
   "source": [
    "hessenberg_form(A)"
   ]
  },
  {
   "cell_type": "code",
   "execution_count": 164,
   "id": "67e63ac8",
   "metadata": {},
   "outputs": [
    {
     "name": "stdout",
     "output_type": "stream",
     "text": [
      "[[ 1.  0.  2.  3.]\n",
      " [-1.  0.  5.  2.]\n",
      " [ 2. -2.  0.  0.]\n",
      " [ 2. -1.  2.  0.]]\n"
     ]
    }
   ],
   "source": []
  },
  {
   "cell_type": "code",
   "execution_count": 168,
   "id": "cda5e60d",
   "metadata": {},
   "outputs": [
    {
     "name": "stdout",
     "output_type": "stream",
     "text": [
      "[[ 1.00000000e+00  3.33333333e+00 -1.26666667e+00  5.33333333e-01]\n",
      " [ 3.00000000e+00 -8.88178420e-16  2.13333333e+00  6.66666667e-02]\n",
      " [-4.44089210e-16 -5.00000000e+00  7.73333333e-01  2.58666667e+00]\n",
      " [-4.44089210e-16  0.00000000e+00 -7.46666667e-01 -7.73333333e-01]]\n"
     ]
    }
   ],
   "source": []
  },
  {
   "cell_type": "code",
   "execution_count": 166,
   "id": "8dc242c3",
   "metadata": {},
   "outputs": [
    {
     "data": {
      "text/plain": [
       "array([[ 1.        ,  3.33333333, -1.26666667,  0.53333333],\n",
       "       [ 3.        ,  0.        ,  2.13333333,  0.06666667],\n",
       "       [ 0.        , -5.        ,  0.77333333,  2.58666667],\n",
       "       [ 0.        ,  0.        , -0.74666667, -0.77333333]])"
      ]
     },
     "execution_count": 166,
     "metadata": {},
     "output_type": "execute_result"
    }
   ],
   "source": [
    "hessenberg(A)"
   ]
  },
  {
   "cell_type": "code",
   "execution_count": 156,
   "id": "48bf89f3",
   "metadata": {},
   "outputs": [
    {
     "data": {
      "text/plain": [
       "dtype('float64')"
      ]
     },
     "execution_count": 156,
     "metadata": {},
     "output_type": "execute_result"
    }
   ],
   "source": []
  },
  {
   "cell_type": "code",
   "execution_count": null,
   "id": "27694029",
   "metadata": {},
   "outputs": [],
   "source": []
  }
 ],
 "metadata": {
  "kernelspec": {
   "display_name": "Python 3 (ipykernel)",
   "language": "python",
   "name": "python3"
  },
  "language_info": {
   "codemirror_mode": {
    "name": "ipython",
    "version": 3
   },
   "file_extension": ".py",
   "mimetype": "text/x-python",
   "name": "python",
   "nbconvert_exporter": "python",
   "pygments_lexer": "ipython3",
   "version": "3.9.10"
  }
 },
 "nbformat": 4,
 "nbformat_minor": 5
}
